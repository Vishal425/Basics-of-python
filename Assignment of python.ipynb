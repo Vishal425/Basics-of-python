{
 "cells": [
  {
   "cell_type": "code",
   "execution_count": null,
   "metadata": {},
   "outputs": [],
   "source": [
    "# Problem : 1\n",
    "#Creat a program that ask the students to enter their name and their age. \n",
    "#Print out a message addressed to tells them the year that they will turn 45 years old. "
   ]
  },
  {
   "cell_type": "code",
   "execution_count": 2,
   "metadata": {},
   "outputs": [
    {
     "name": "stdout",
     "output_type": "stream",
     "text": [
      "Hello\n",
      "What is your name?Vishal\n",
      "How old are you?23\n",
      "What year is current?2019\n",
      "Vishal will be 45 years old in the year  2041\n"
     ]
    }
   ],
   "source": [
    "print('Hello')\n",
    "Name = input('What is your name?')\n",
    "age = int(input('How old are you?'))\n",
    "Whatyear = int(input('What year is current?'))\n",
    "year = str((Whatyear-age)+45)\n",
    "print(Name +' '+ 'will be 45 years old in the year' +'  '+ year)"
   ]
  },
  {
   "cell_type": "code",
   "execution_count": null,
   "metadata": {},
   "outputs": [],
   "source": [
    "# Problem : 2\n",
    "#Creat a program which will give users an output whether the number is even, or odd once user will enter the number as\n",
    "# input. At the users should get an output saying .\"The number is odd\" or \"The number is even\"."
   ]
  },
  {
   "cell_type": "code",
   "execution_count": 2,
   "metadata": {},
   "outputs": [
    {
     "name": "stdout",
     "output_type": "stream",
     "text": [
      "type a number:21\n",
      "This number is an odd number\n"
     ]
    }
   ],
   "source": [
    "enternum = int(input('type a number:'))\n",
    "y = enternum%2\n",
    "if y==int():\n",
    "    print('This number is an even number')\n",
    "else:\n",
    "    print('This number is an odd number')"
   ]
  },
  {
   "cell_type": "code",
   "execution_count": null,
   "metadata": {},
   "outputs": [],
   "source": [
    "# Problem : 3\n",
    "#In a school for wrestling competition, coach asks the students of their  weight and he wants only students those weight is less\n",
    "# than 50 kg.Creat a python list where we will store the weights of each students.We will have to create a code which will fetch\n",
    "# out  the weights which are less than 50 kg  from that list."
   ]
  },
  {
   "cell_type": "code",
   "execution_count": 3,
   "metadata": {},
   "outputs": [
    {
     "name": "stdout",
     "output_type": "stream",
     "text": [
      "18\n",
      "22\n",
      "23\n",
      "45\n",
      "33\n",
      "48\n",
      "34\n",
      "[18, 22, 23, 45, 33, 48, 34]\n"
     ]
    }
   ],
   "source": [
    "weights_list = [18,22,23,45,65,66,58,76,55,85,78,33,48,34,67]\n",
    "weights_50_orless = []\n",
    "for i in weights_list:\n",
    "    if i < 50:\n",
    "        print(i)\n",
    "        weights_50_orless.append(i)\n",
    "print(weights_50_orless)"
   ]
  },
  {
   "cell_type": "code",
   "execution_count": null,
   "metadata": {},
   "outputs": [],
   "source": [
    "# Problem : 4\n",
    "#In class 9th students given a task  of writting a factor of a number of their choice, and prints out a list of all the\n",
    "# factors of that particular number. "
   ]
  },
  {
   "cell_type": "code",
   "execution_count": 5,
   "metadata": {},
   "outputs": [
    {
     "name": "stdout",
     "output_type": "stream",
     "text": [
      "Type a number of your choice:624\n",
      "[1, 2, 3, 4, 6, 8, 12, 13, 16, 24, 26, 39, 48, 52, 78, 104, 156, 208, 312, 624]\n"
     ]
    }
   ],
   "source": [
    "select_num = int(input('Type a number of your choice:'))\n",
    "listrange = list(range(1,select_num + 1))\n",
    "divisorlist = []\n",
    "for number in listrange:\n",
    "    if select_num % number ==0:\n",
    "        divisorlist.append(number)\n",
    "print(divisorlist)"
   ]
  },
  {
   "cell_type": "code",
   "execution_count": null,
   "metadata": {},
   "outputs": [],
   "source": [
    "# Problem : 5\n",
    "#In a university a professor ofcomputer science department asks the students their age.There are two section in the department\n",
    "# and in the both the section differnt number of student are there.The task is to create a list of age of students for both the \n",
    "# departments separately and then they have to create a program that returns the common age between those list without duplicate"
   ]
  },
  {
   "cell_type": "code",
   "execution_count": 10,
   "metadata": {},
   "outputs": [],
   "source": [
    "section1 = [23,22,24,25,26,22,23,24,28,31,27,23,24,29,43,43]\n",
    "section2 = [22,25,32,34,33,31,28,27,36,29,22,23,24,22,25,28]"
   ]
  },
  {
   "cell_type": "code",
   "execution_count": 11,
   "metadata": {},
   "outputs": [
    {
     "name": "stdout",
     "output_type": "stream",
     "text": [
      "[23, 22, 24, 25, 28, 31, 27, 29]\n"
     ]
    }
   ],
   "source": [
    "common_ages = []\n",
    "for item in section1:\n",
    "    if item in section2:\n",
    "        if item not in common_ages:\n",
    "            common_ages.append(item)\n",
    "print(common_ages)"
   ]
  },
  {
   "cell_type": "code",
   "execution_count": null,
   "metadata": {},
   "outputs": [],
   "source": [
    "# Problem : 6\n",
    "#In the 9th class,the english teacher gives a list of words and ask students to check  whether the given list of words is\n",
    "# palindrome or not.Write python code to solve this problem."
   ]
  },
  {
   "cell_type": "code",
   "execution_count": 12,
   "metadata": {},
   "outputs": [
    {
     "name": "stdout",
     "output_type": "stream",
     "text": [
      "Type a word:Vishal\n",
      "No it is not palindrome\n"
     ]
    }
   ],
   "source": [
    "user_input = input('Type a word:')\n",
    "if user_input == user_input[::-1]:\n",
    "    print('Yes it is palindrome')\n",
    "else:\n",
    "    print('No it is not palindrome')\n"
   ]
  },
  {
   "cell_type": "code",
   "execution_count": 13,
   "metadata": {},
   "outputs": [
    {
     "name": "stdout",
     "output_type": "stream",
     "text": [
      "Type a word:madam\n",
      "Yes it is palindrome\n"
     ]
    }
   ],
   "source": [
    "user_input = input('Type a word:')\n",
    "if user_input == user_input[::-1]:\n",
    "    print('Yes it is palindrome')\n",
    "else:\n",
    "    print('No it is not palindrome')"
   ]
  },
  {
   "cell_type": "code",
   "execution_count": null,
   "metadata": {},
   "outputs": [],
   "source": [
    "# Problem : 7\n",
    "# in a locaity there are some houses and in each houses,there are some members,we have a list of the sum of ages of all members \n",
    "# of every house,so how to find even number of ages."
   ]
  },
  {
   "cell_type": "code",
   "execution_count": 16,
   "metadata": {},
   "outputs": [
    {
     "name": "stdout",
     "output_type": "stream",
     "text": [
      "[46, 70, 64, 58, 60, 9150, 100, 130, 154]\n"
     ]
    }
   ],
   "source": [
    "list_ages=[51,46,70,64,58,60,9150,100,130,154]\n",
    "for i in list_ages:\n",
    "    if i%2 !=0:\n",
    "        list_ages.remove(i)\n",
    "print(list_ages)"
   ]
  },
  {
   "cell_type": "code",
   "execution_count": null,
   "metadata": {},
   "outputs": [],
   "source": [
    "# Problem : 8\n",
    "#In an IQ test,the mentor asks the students to think a random number between 2 and 12 (including 2 and 12 ) and then he will \n",
    "# guess the number then students will check whether the guessed number is low,high or right."
   ]
  },
  {
   "cell_type": "code",
   "execution_count": 19,
   "metadata": {},
   "outputs": [
    {
     "name": "stdout",
     "output_type": "stream",
     "text": [
      "Guess the number between 2 and 12 :4\n",
      "your guessed is too low\n",
      "Guess the number between 2 and 12 :6\n",
      "your guessed is too low\n",
      "Guess the number between 2 and 12 :8\n",
      "you guessed right\n"
     ]
    }
   ],
   "source": [
    "from random import randint\n",
    "rand = randint(2,12)\n",
    "while  True:\n",
    "    guess = int(input('Guess the number between 2 and 12 :'))\n",
    "    if guess== rand:\n",
    "        print('you guessed right')\n",
    "        break\n",
    "    else:\n",
    "        if guess < rand:\n",
    "            print('your guessed is too low')\n",
    "        elif guess > rand:\n",
    "            print('your guessed is too high')\n",
    "            \n",
    "            y = input('If you want to continue?(Y/N)').upper()\n",
    "            if y=='N':\n",
    "                print(rand)\n",
    "                break\n",
    "        "
   ]
  },
  {
   "cell_type": "code",
   "execution_count": null,
   "metadata": {},
   "outputs": [],
   "source": [
    "# Problem : 9\n",
    "#In a university,there are various classes ,and ,in each class, there are different number of students.we have to create a \n",
    "# program which will help us to find that in which class there is a prime number of students."
   ]
  },
  {
   "cell_type": "code",
   "execution_count": 21,
   "metadata": {},
   "outputs": [
    {
     "name": "stdout",
     "output_type": "stream",
     "text": [
      "Insert a number :3\n",
      "Its a prime number\n"
     ]
    }
   ],
   "source": [
    "num = int(input('Insert a number :'))\n",
    "x = [y for y in range(2,num) if num%y==0]\n",
    "\n",
    "def is_prime(n):\n",
    "    if num>1:\n",
    "        if len(x)==0:\n",
    "            print('Its a prime number')\n",
    "        else:\n",
    "            print('Its not a prime number')\n",
    "    else:\n",
    "        print('Not a prime number')\n",
    "is_prime(num)"
   ]
  },
  {
   "cell_type": "code",
   "execution_count": null,
   "metadata": {},
   "outputs": [],
   "source": [
    "# Problem : 10\n",
    "#we have a list of random number, create a program that will first sort the list in increasing order and then finds the first \n",
    "# and last number."
   ]
  },
  {
   "cell_type": "code",
   "execution_count": 22,
   "metadata": {},
   "outputs": [],
   "source": [
    "import random\n",
    "x = random.sample(range(60),9)"
   ]
  },
  {
   "cell_type": "code",
   "execution_count": 23,
   "metadata": {},
   "outputs": [
    {
     "data": {
      "text/plain": [
       "[59, 54, 2, 46, 22, 24, 39, 30, 48]"
      ]
     },
     "execution_count": 23,
     "metadata": {},
     "output_type": "execute_result"
    }
   ],
   "source": [
    "x"
   ]
  },
  {
   "cell_type": "code",
   "execution_count": 24,
   "metadata": {},
   "outputs": [],
   "source": [
    "x.sort()"
   ]
  },
  {
   "cell_type": "code",
   "execution_count": 25,
   "metadata": {},
   "outputs": [
    {
     "data": {
      "text/plain": [
       "[2, 22, 24, 30, 39, 46, 48, 54, 59]"
      ]
     },
     "execution_count": 25,
     "metadata": {},
     "output_type": "execute_result"
    }
   ],
   "source": [
    "x"
   ]
  },
  {
   "cell_type": "code",
   "execution_count": 27,
   "metadata": {},
   "outputs": [
    {
     "name": "stdout",
     "output_type": "stream",
     "text": [
      "[2, 59]\n"
     ]
    }
   ],
   "source": [
    "y=[i for i in x[0::len(x)-1]]\n",
    "print(y)"
   ]
  },
  {
   "cell_type": "code",
   "execution_count": null,
   "metadata": {},
   "outputs": [],
   "source": []
  }
 ],
 "metadata": {
  "kernelspec": {
   "display_name": "Python 3",
   "language": "python",
   "name": "python3"
  },
  "language_info": {
   "codemirror_mode": {
    "name": "ipython",
    "version": 3
   },
   "file_extension": ".py",
   "mimetype": "text/x-python",
   "name": "python",
   "nbconvert_exporter": "python",
   "pygments_lexer": "ipython3",
   "version": "3.7.3"
  }
 },
 "nbformat": 4,
 "nbformat_minor": 2
}
