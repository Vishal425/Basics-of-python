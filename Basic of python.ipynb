{
 "cells": [
  {
   "cell_type": "code",
   "execution_count": 1,
   "metadata": {},
   "outputs": [
    {
     "name": "stdout",
     "output_type": "stream",
     "text": [
      "mango\n",
      "apple\n",
      "banana\n",
      "hi\n"
     ]
    }
   ],
   "source": [
    "for i in ['mango','apple','banana']:\n",
    "    print(i)\n",
    "print('hi')\n"
   ]
  },
  {
   "cell_type": "code",
   "execution_count": 2,
   "metadata": {},
   "outputs": [
    {
     "name": "stdout",
     "output_type": "stream",
     "text": [
      "0\n",
      "1\n",
      "2\n",
      "3\n",
      "4\n",
      "5\n",
      "6\n",
      "7\n",
      "8\n",
      "9\n",
      "10\n"
     ]
    }
   ],
   "source": [
    "counter=0\n",
    "while counter<11:\n",
    "    print(counter)\n",
    "    counter=counter+1    "
   ]
  },
  {
   "cell_type": "code",
   "execution_count": 3,
   "metadata": {},
   "outputs": [
    {
     "name": "stdout",
     "output_type": "stream",
     "text": [
      "a 1\n",
      "b 2\n",
      "c 3\n",
      "Hello\n"
     ]
    }
   ],
   "source": [
    "customername = ['a','b','c']\n",
    "orderid =['1','2','3']\n",
    "for (c,o) in zip(customername,orderid):\n",
    "    print (c,o)\n",
    "print (\"Hello\")    "
   ]
  },
  {
   "cell_type": "code",
   "execution_count": 4,
   "metadata": {},
   "outputs": [
    {
     "name": "stdout",
     "output_type": "stream",
     "text": [
      "total quantity left is: 5\n",
      "total quantity left is: 4\n",
      "total quantity left is: 3\n",
      "total quantity left is: 2\n",
      "total quantity left is: 1\n",
      "total quantity left is: 0\n",
      "No code available\n"
     ]
    }
   ],
   "source": [
    "coupoun_code=5\n",
    "quantity=0\n",
    "while quantity<6:\n",
    "    print('total quantity left is:', coupoun_code-quantity)\n",
    "    quantity=quantity+1\n",
    "print('No code available')  "
   ]
  },
  {
   "cell_type": "code",
   "execution_count": 5,
   "metadata": {},
   "outputs": [
    {
     "name": "stdout",
     "output_type": "stream",
     "text": [
      "you passed\n"
     ]
    }
   ],
   "source": [
    "marks=100\n",
    "if marks<35:\n",
    "        print('you failed the exam')\n",
    "else:    \n",
    "        print('you passed')"
   ]
  },
  {
   "cell_type": "code",
   "execution_count": 6,
   "metadata": {},
   "outputs": [
    {
     "name": "stdout",
     "output_type": "stream",
     "text": [
      "Excellent\n"
     ]
    }
   ],
   "source": [
    "marks=95\n",
    "if marks<=35:\n",
    "    print('you failed the exam')\n",
    "else:\n",
    "    if marks>35 and marks<75:\n",
    "        print('you passed')\n",
    "    else:\n",
    "        print('Excellent')"
   ]
  },
  {
   "cell_type": "code",
   "execution_count": 7,
   "metadata": {},
   "outputs": [
    {
     "name": "stdout",
     "output_type": "stream",
     "text": [
      "Excellent\n"
     ]
    }
   ],
   "source": [
    "marks=95\n",
    "if marks<=35:\n",
    "    print('you failed the exam')\n",
    "elif marks>35 and marks<75:\n",
    "        print('you passed')\n",
    "else:\n",
    "        print('Excellent')"
   ]
  },
  {
   "cell_type": "code",
   "execution_count": 8,
   "metadata": {},
   "outputs": [],
   "source": [
    "x=1"
   ]
  },
  {
   "cell_type": "code",
   "execution_count": 9,
   "metadata": {},
   "outputs": [
    {
     "data": {
      "text/plain": [
       "False"
      ]
     },
     "execution_count": 9,
     "metadata": {},
     "output_type": "execute_result"
    }
   ],
   "source": [
    "(x==3)"
   ]
  },
  {
   "cell_type": "code",
   "execution_count": 10,
   "metadata": {},
   "outputs": [
    {
     "data": {
      "text/plain": [
       "True"
      ]
     },
     "execution_count": 10,
     "metadata": {},
     "output_type": "execute_result"
    }
   ],
   "source": [
    "x==1"
   ]
  },
  {
   "cell_type": "code",
   "execution_count": 11,
   "metadata": {},
   "outputs": [
    {
     "data": {
      "text/plain": [
       "int"
      ]
     },
     "execution_count": 11,
     "metadata": {},
     "output_type": "execute_result"
    }
   ],
   "source": [
    "type(x)"
   ]
  },
  {
   "cell_type": "code",
   "execution_count": 12,
   "metadata": {},
   "outputs": [],
   "source": [
    "x='ram'"
   ]
  },
  {
   "cell_type": "code",
   "execution_count": 13,
   "metadata": {},
   "outputs": [
    {
     "data": {
      "text/plain": [
       "str"
      ]
     },
     "execution_count": 13,
     "metadata": {},
     "output_type": "execute_result"
    }
   ],
   "source": [
    "type(x)"
   ]
  },
  {
   "cell_type": "code",
   "execution_count": 14,
   "metadata": {},
   "outputs": [],
   "source": [
    "y =[1,2,3,4,5,6,7,8,9]"
   ]
  },
  {
   "cell_type": "code",
   "execution_count": 15,
   "metadata": {},
   "outputs": [
    {
     "data": {
      "text/plain": [
       "9"
      ]
     },
     "execution_count": 15,
     "metadata": {},
     "output_type": "execute_result"
    }
   ],
   "source": [
    "len(y)"
   ]
  },
  {
   "cell_type": "code",
   "execution_count": 16,
   "metadata": {},
   "outputs": [
    {
     "name": "stdout",
     "output_type": "stream",
     "text": [
      "Hello python\n",
      "Hello python\n",
      "Hello python\n",
      "loop ends\n"
     ]
    }
   ],
   "source": [
    "for i in range(0,5,2):\n",
    "    print('Hello python')\n",
    "print('loop ends')    "
   ]
  },
  {
   "cell_type": "code",
   "execution_count": 17,
   "metadata": {},
   "outputs": [
    {
     "name": "stdout",
     "output_type": "stream",
     "text": [
      "Hello Jack ,Your Student ID is: MC-2543\n",
      "Hello James ,Your Student ID is: BC-4574\n",
      "Hello Kate ,Your Student ID is: MS-9128\n",
      "Hello Ben ,Your Student ID is: BS-5394\n",
      "Hello Hugo ,Your Student ID is: MK-8565\n",
      "end\n"
     ]
    }
   ],
   "source": [
    "Student_List = ['Jack','James','Kate','Ben','Hugo']\n",
    "Student_Id = ['MC-2543','BC-4574','MS-9128','BS-5394','MK-8565']\n",
    "for (sl,si) in zip (Student_List,Student_Id):\n",
    "    print('Hello',sl,',''Your Student ID is:',si)\n",
    "print('end')    \n",
    "    "
   ]
  },
  {
   "cell_type": "code",
   "execution_count": 18,
   "metadata": {},
   "outputs": [
    {
     "name": "stdout",
     "output_type": "stream",
     "text": [
      "0 Hello World\n",
      "1 Hello World\n",
      "2 Hello World\n",
      "3 Hello World\n",
      "4 Hello World\n",
      "5 Hello World\n",
      "6 Hello World\n",
      "7 Hello World\n",
      "8 Hello World\n",
      "9 Hello World\n",
      "Loop Ends\n"
     ]
    }
   ],
   "source": [
    "x=0\n",
    "while x < 10:\n",
    "    print(x,\"Hello World\")\n",
    "    x = x+1\n",
    "print('Loop Ends')"
   ]
  },
  {
   "cell_type": "code",
   "execution_count": 19,
   "metadata": {},
   "outputs": [
    {
     "name": "stdout",
     "output_type": "stream",
     "text": [
      "0.12355466\n",
      "Less than 1\n"
     ]
    }
   ],
   "source": [
    "x = 0.12355466\n",
    "if x > 1:\n",
    "    Answer = 'Greater than 1'\n",
    "else:\n",
    "    Answer = \"Less than 1\"\n",
    "print(x)\n",
    "print(Answer)"
   ]
  },
  {
   "cell_type": "code",
   "execution_count": 20,
   "metadata": {},
   "outputs": [
    {
     "name": "stdout",
     "output_type": "stream",
     "text": [
      "Between 1 and -1\n",
      "0.123466\n"
     ]
    }
   ],
   "source": [
    "x = 0.123466\n",
    "if x > 1:\n",
    "    print('Greater than 1')\n",
    "elif x >= -1 and x < 1:\n",
    "    print(\"Between 1 and -1\")\n",
    "else:\n",
    "    print('Less than 1')\n",
    "print(x)\n"
   ]
  },
  {
   "cell_type": "code",
   "execution_count": 21,
   "metadata": {},
   "outputs": [
    {
     "data": {
      "text/plain": [
       "range(0, 5)"
      ]
     },
     "execution_count": 21,
     "metadata": {},
     "output_type": "execute_result"
    }
   ],
   "source": [
    "range(0,5)"
   ]
  },
  {
   "cell_type": "code",
   "execution_count": 22,
   "metadata": {},
   "outputs": [
    {
     "data": {
      "text/plain": [
       "[0, 1, 2, 3, 4]"
      ]
     },
     "execution_count": 22,
     "metadata": {},
     "output_type": "execute_result"
    }
   ],
   "source": [
    "list(range(5))"
   ]
  },
  {
   "cell_type": "code",
   "execution_count": 23,
   "metadata": {},
   "outputs": [],
   "source": [
    "list1 = [1,2,3,4,5,6,7,8,9]"
   ]
  },
  {
   "cell_type": "code",
   "execution_count": 24,
   "metadata": {},
   "outputs": [
    {
     "name": "stdout",
     "output_type": "stream",
     "text": [
      "1 Hi How are you\n",
      "2 Hi How are you\n",
      "3 Hi How are you\n",
      "4 Hi How are you\n",
      "5 Hi How are you\n",
      "6 Hi How are you\n",
      "7 Hi How are you\n",
      "8 Hi How are you\n",
      "9 Hi How are you\n"
     ]
    }
   ],
   "source": [
    "for i in list1:\n",
    "    print(i,'Hi How are you')"
   ]
  },
  {
   "cell_type": "code",
   "execution_count": null,
   "metadata": {},
   "outputs": [],
   "source": []
  },
  {
   "cell_type": "code",
   "execution_count": null,
   "metadata": {},
   "outputs": [],
   "source": []
  },
  {
   "cell_type": "code",
   "execution_count": null,
   "metadata": {},
   "outputs": [],
   "source": []
  }
 ],
 "metadata": {
  "kernelspec": {
   "display_name": "Python 3",
   "language": "python",
   "name": "python3"
  },
  "language_info": {
   "codemirror_mode": {
    "name": "ipython",
    "version": 3
   },
   "file_extension": ".py",
   "mimetype": "text/x-python",
   "name": "python",
   "nbconvert_exporter": "python",
   "pygments_lexer": "ipython3",
   "version": "3.7.3"
  }
 },
 "nbformat": 4,
 "nbformat_minor": 2
}
